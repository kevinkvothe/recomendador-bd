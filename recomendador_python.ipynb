{
 "cells": [
  {
   "cell_type": "markdown",
   "metadata": {},
   "source": [
    "## Recomendador en Python\n",
    "\n",
    "#### Kevin Craig Alisauskas\n"
   ]
  },
  {
   "cell_type": "markdown",
   "metadata": {},
   "source": [
    "Importamos librerías"
   ]
  },
  {
   "cell_type": "code",
   "execution_count": 1,
   "metadata": {},
   "outputs": [],
   "source": [
    "from sklearn.neighbors import NearestNeighbors\n",
    "import numpy as np\n",
    "import pandas as pd\n",
    "import warnings\n",
    "warnings.filterwarnings('ignore')"
   ]
  },
  {
   "cell_type": "markdown",
   "metadata": {},
   "source": [
    "Importamos los datos"
   ]
  },
  {
   "cell_type": "code",
   "execution_count": 2,
   "metadata": {},
   "outputs": [],
   "source": [
    "ratings = pd.read_csv(\"./Datos/ratings.dat\", sep = \"::\", header = None, names = [\"UserID\", \"MovieID\", \"Rating\", \"Timestamp\"])\n",
    "movies = pd.read_csv(\"./Datos/movies.dat\", sep = \"::\", header = None, names = [\"MovieID\", \"Title\", \"Genres\"])"
   ]
  },
  {
   "cell_type": "markdown",
   "metadata": {},
   "source": [
    "Vamos a crear dos matrices a partir de los usuarios, una con los nombres de las películas y si han visto la película o no (_ratings_matrix_bin_), a partir de la que realizaremos una recomendación por usuarios usando kneighbors, y otra con las valoraciones de las películas en lugar de si las han visto o no (_ratings_matrix_), para realizar una recomendación individual usando la correlación entre películas."
   ]
  },
  {
   "cell_type": "code",
   "execution_count": 3,
   "metadata": {},
   "outputs": [],
   "source": [
    "ratings_matrix = ratings.pivot_table(index = \"UserID\", columns = \"MovieID\", values = \"Rating\")\n",
    "ratings_matrix_bin = np.where(np.isnan(ratings_matrix), 0, 1)"
   ]
  },
  {
   "cell_type": "markdown",
   "metadata": {},
   "source": [
    "Nos conviene almacenar los vectores de usuarios y películas tal y como están."
   ]
  },
  {
   "cell_type": "code",
   "execution_count": 4,
   "metadata": {},
   "outputs": [],
   "source": [
    "ratings_matrix_cop = pd.DataFrame(ratings_matrix)\n",
    "movie_id = ratings_matrix_cop.columns.values\n",
    "users_id = ratings_matrix_cop.index"
   ]
  },
  {
   "cell_type": "markdown",
   "metadata": {},
   "source": [
    "Seleccionamos el usuario para el cual recomendar. El índice será el índice matricial, necesitamos de _users_id_ para saber cual es en realidad."
   ]
  },
  {
   "cell_type": "code",
   "execution_count": 5,
   "metadata": {},
   "outputs": [],
   "source": [
    "user_id = 0"
   ]
  },
  {
   "cell_type": "markdown",
   "metadata": {},
   "source": [
    "Realizamos el clústering por los vecinos más próximos y obtenemos las distancias y los 3 vecinos más cercanos (2 y el mismo usuario)."
   ]
  },
  {
   "cell_type": "code",
   "execution_count": 6,
   "metadata": {},
   "outputs": [
    {
     "name": "stdout",
     "output_type": "stream",
     "text": [
      "Distancias y vecinos al usuario con UserID =  0 : [[0.         7.41619849 7.68114575]] [[   0 5342 2378]]\n"
     ]
    }
   ],
   "source": [
    "nbrs = NearestNeighbors(n_neighbors=3).fit(ratings_matrix_bin)\n",
    "distances, indices = nbrs.kneighbors([ratings_matrix_bin[user_id]])\n",
    "\n",
    "print(\"Distancias y vecinos al usuario con UserID = \", user_id, \":\",  distances, indices)"
   ]
  },
  {
   "cell_type": "markdown",
   "metadata": {},
   "source": [
    "Seguiremos el siguiente criterio de recomendacion: el mas similar al preferido por el usuario y no escogido todavia. \n",
    "Para seguirlo necesitamos un listado de posibles películas. A partir del vecino más cercano obtenemos las películas que si ha visto ese vecino y no nuestro usuario."
   ]
  },
  {
   "cell_type": "code",
   "execution_count": 8,
   "metadata": {},
   "outputs": [],
   "source": [
    "difs = ratings_matrix_bin - ratings_matrix_bin[user_id]\n",
    "vecino = indices[0, 1]   # 2ndo vecino, el primero es el mismo\n",
    "posibles = (difs[vecino]  == 1)\n",
    "Lposibles = movie_id[posibles]  # Lista de posibles películas a recomedar, sin valorar."
   ]
  },
  {
   "cell_type": "markdown",
   "metadata": {},
   "source": [
    "Observamos las películas vistas por el user_id y las posibles."
   ]
  },
  {
   "cell_type": "code",
   "execution_count": 21,
   "metadata": {},
   "outputs": [
    {
     "name": "stdout",
     "output_type": "stream",
     "text": [
      "Películas vistas por el usuario:  1\n",
      "Toy Story (1995)\n",
      "Pocahontas (1995)\n",
      "Apollo 13 (1995)\n",
      "Star Wars: Episode IV - A New Hope (1977)\n",
      "Schindler's List (1993)\n",
      "Secret Garden, The (1993)\n",
      "Aladdin (1992)\n",
      "Snow White and the Seven Dwarfs (1937)\n",
      "Beauty and the Beast (1991)\n",
      "Fargo (1996)\n",
      "James and the Giant Peach (1996)\n",
      "Wallace & Gromit: The Best of Aardman Animation (1996)\n",
      "Close Shave, A (1995)\n",
      "Hunchback of Notre Dame, The (1996)\n",
      "My Fair Lady (1964)\n",
      "Wizard of Oz, The (1939)\n",
      "Gigi (1958)\n",
      "Cinderella (1950)\n",
      "Mary Poppins (1964)\n",
      "Dumbo (1941)\n",
      "Sound of Music, The (1965)\n",
      "E.T. the Extra-Terrestrial (1982)\n",
      "One Flew Over the Cuckoo's Nest (1975)\n",
      "Princess Bride, The (1987)\n",
      "To Kill a Mockingbird (1962)\n",
      "Dead Poets Society (1989)\n",
      "Back to the Future (1985)\n",
      "Ben-Hur (1959)\n",
      "Ponette (1996)\n",
      "Hercules (1997)\n",
      "Titanic (1997)\n",
      "Last Days of Disco, The (1998)\n",
      "Mulan (1998)\n",
      "Rain Man (1988)\n",
      "Driving Miss Daisy (1989)\n",
      "Bambi (1942)\n",
      "Saving Private Ryan (1998)\n",
      "Antz (1998)\n",
      "Pleasantville (1998)\n",
      "Meet Joe Black (1998)\n",
      "Bug's Life, A (1998)\n",
      "Miracle on 34th Street (1947)\n",
      "Tarzan (1999)\n",
      "Run Lola Run (Lola rennt) (1998)\n",
      "Sixth Sense, The (1999)\n",
      "Airplane! (1980)\n",
      "Big (1988)\n",
      "Christmas Story, A (1983)\n",
      "Ferris Bueller's Day Off (1986)\n",
      "Awakenings (1990)\n",
      "Toy Story 2 (1999)\n",
      "Girl, Interrupted (1999)\n",
      "Erin Brockovich (2000)\n",
      "\n",
      "\n",
      "Películas Posibles: \n",
      "Fugitive, The (1993)\n",
      "Silence of the Lambs, The (1991)\n",
      "Some Like It Hot (1959)\n",
      "Winnie the Pooh and the Blustery Day (1968)\n",
      "Godfather: Part II, The (1974)\n",
      "Annie Hall (1977)\n",
      "Cape Fear (1991)\n",
      "L.A. Confidential (1997)\n",
      "Jungle Book, The (1967)\n",
      "Lady and the Tramp (1955)\n",
      "Little Mermaid, The (1989)\n",
      "Sleeping Beauty (1959)\n",
      "Charlotte's Web (1973)\n",
      "American Beauty (1999)\n",
      "Boiler Room (2000)\n",
      "Whole Nine Yards, The (2000)\n",
      "Animal House (1978)\n",
      "Gladiator (2000)\n",
      "Soapdish (1991)\n"
     ]
    }
   ],
   "source": [
    " \n",
    "vistas = movie_id[np.where(ratings_matrix_bin[user_id] == 1)[0]]\n",
    "\n",
    "print(\"Películas vistas por el usuario: \", users_id[user_id])\n",
    "for i in vistas:\n",
    "    print(movies.iloc[np.where(movies.MovieID == i)[0], 1].tolist()[0])\n",
    "\n",
    "print(\"\\n\")\n",
    "    \n",
    "print(\"Películas Posibles: \")\n",
    "for i in Lposibles:\n",
    "    print(movies.iloc[np.where(movies.MovieID == i)[0], 1].tolist()[0])"
   ]
  },
  {
   "cell_type": "markdown",
   "metadata": {},
   "source": [
    "Ahora vamos a trabajar con la matriz ratings_matrix, buscando la correlación entre películas a partir de las valoraciones de usuarios y mostramos la seleccionada (la que más se relacione con las películas vistas por el usuario al que recomendamos)."
   ]
  },
  {
   "cell_type": "code",
   "execution_count": 23,
   "metadata": {},
   "outputs": [
    {
     "name": "stdout",
     "output_type": "stream",
     "text": [
      "Recomendacion Final: \n",
      "Lady and the Tramp (1955)\n"
     ]
    }
   ],
   "source": [
    "\n",
    "if len(Lposibles > 0):\n",
    "\n",
    "    Lscores = []\n",
    "\n",
    "    for p in Lposibles:\n",
    "\n",
    "        # Guardamos la matriz de ratings de la p ésima película a recomendar.\n",
    "        ratings_matrix_pos = ratings_matrix[p]\n",
    "\n",
    "        # Guardamos la matriz de ratings de las películas vistas por el usuario UserID.\n",
    "        ratings_matrix_user = ratings_matrix[vistas]\n",
    "\n",
    "        # Calculamos la similitud entre la película posible y las vistas por el usuario.\n",
    "        simil = pd.DataFrame(ratings_matrix_user.corrwith(ratings_matrix_pos))\n",
    "\n",
    "        # Almacenamos la suma de las correlaciones de la posible película con las vistas.\n",
    "        Lscores.append(simil.sum()[0])\n",
    "\n",
    "    irecom = int(np.array(Lscores).argmax())\n",
    "    print(\"Recomendacion Final: \")\n",
    "    print(movies.iloc[np.where(movies.MovieID == Lposibles[irecom])[0], 1].tolist()[0])\n",
    "    \n",
    "else:\n",
    "    print(\"Ninguna película diponible.\")\n"
   ]
  },
  {
   "cell_type": "code",
   "execution_count": null,
   "metadata": {},
   "outputs": [],
   "source": []
  },
  {
   "cell_type": "code",
   "execution_count": null,
   "metadata": {},
   "outputs": [],
   "source": []
  },
  {
   "cell_type": "code",
   "execution_count": null,
   "metadata": {},
   "outputs": [],
   "source": []
  }
 ],
 "metadata": {
  "kernelspec": {
   "display_name": "Python 3",
   "language": "python",
   "name": "python3"
  },
  "language_info": {
   "codemirror_mode": {
    "name": "ipython",
    "version": 3
   },
   "file_extension": ".py",
   "mimetype": "text/x-python",
   "name": "python",
   "nbconvert_exporter": "python",
   "pygments_lexer": "ipython3",
   "version": "3.7.3"
  }
 },
 "nbformat": 4,
 "nbformat_minor": 2
}
